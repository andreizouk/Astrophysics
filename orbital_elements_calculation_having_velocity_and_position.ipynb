{
  "cells": [
    {
      "cell_type": "markdown",
      "metadata": {
        "id": "view-in-github",
        "colab_type": "text"
      },
      "source": [
        "<a href=\"https://colab.research.google.com/github/andreizouk/Astrophysics/blob/main/orbital_elements_calculation_having_velocity_and_position.ipynb\" target=\"_parent\"><img src=\"https://colab.research.google.com/assets/colab-badge.svg\" alt=\"Open In Colab\"/></a>"
      ]
    },
    {
      "cell_type": "code",
      "execution_count": null,
      "metadata": {
        "id": "RiQRGHhqB4y6",
        "outputId": "662b419a-28cc-49ca-cfdc-f7563f1ba341",
        "colab": {
          "base_uri": "https://localhost:8080/"
        }
      },
      "outputs": [
        {
          "output_type": "stream",
          "name": "stdout",
          "text": [
            "C= 4650604799.378248\n",
            "Cx= 0.0\n",
            "Cy= -75000000.0\n"
          ]
        }
      ],
      "source": [
        "#http://www.sai.msu.ru/neb/pcm/pcm02_11.pdf\n",
        "#http://www.iki.rssi.ru/books/2013bakhshiyan.pdf\n",
        "#https://keldysh.ru/kur/move.pdf\n",
        "\n",
        "import numpy as np\n",
        "#Input data\n",
        "\n",
        "# radius\n",
        "\n",
        "Rx = 150000000 #kм\n",
        "Ry = 0\n",
        "Rz = 0\n",
        "\n",
        "# velocity\n",
        "Vx = 1 #km sec\n",
        "Vy = 31 #km sec\n",
        "Vz = 0.5 #km sec\n",
        "\n",
        "#Vector constant areacomponents/компоненты векторной постоянной площадей\n",
        "Cx = Ry*Vz - Rz*Vy\n",
        "Cy = Rz*Vx - Rx*Vz\n",
        "Cz = Rx*Vy - Ry*Vx\n",
        "\n",
        "C = (Cx*Cx+Cy*Cy+Cz*Cz)**0.5\n",
        "\n",
        "print('C=',C)\n",
        "print('Cx=',Cx)\n",
        "print('Cy=',Cy)"
      ]
    },
    {
      "cell_type": "code",
      "execution_count": null,
      "metadata": {
        "id": "W_eTaLg5B4y9",
        "outputId": "7a68b2a6-9b06-4432-be93-1611a13e1dc4",
        "colab": {
          "base_uri": "https://localhost:8080/"
        }
      },
      "outputs": [
        {
          "output_type": "execute_result",
          "data": {
            "text/plain": [
              "22500000000000000"
            ]
          },
          "metadata": {},
          "execution_count": 2
        }
      ],
      "source": [
        "Rx*Rx+Ry*Ry+Rz*Rz"
      ]
    },
    {
      "cell_type": "code",
      "execution_count": null,
      "metadata": {
        "id": "ibPCbg41B4y9",
        "outputId": "4330bfcd-6ee5-48cf-8722-3098f4abac4f",
        "colab": {
          "base_uri": "https://localhost:8080/"
        }
      },
      "outputs": [
        {
          "output_type": "stream",
          "name": "stdout",
          "text": [
            "i 0.016127633843630664\n",
            "Omega_long 0.016127633843630664\n",
            "e 0.09329679074007681\n",
            "a 179925886.39403418\n"
          ]
        }
      ],
      "source": [
        "# longitude of ascending node / долгота восходящего узла \n",
        "Cos_Omega = Cx/C\n",
        "Sin_Omega = Cy/C\n",
        "\n",
        "y=[Cos_Omega,Sin_Omega]\n",
        "                \n",
        "x=[0,0]\n",
        "                \n",
        "Omega_long = np.arctan2(y,x)\n",
        "\n",
        "#orbit inclination / наклонение орбиты (2)\n",
        "Cos_i  = Cz/C\n",
        "\n",
        "i = np.arccos(Cos_i)\n",
        "\n",
        "# additional angle between normal vector to velocity vector of a satellite / Введем вспомогательный угол между нормалью к вектору скорости спутника) и найдем его из условия.\n",
        "\n",
        "r = np.sqrt(Rx*Rx+Ry*Ry+Rz*Rz)\n",
        "\n",
        "v = np.sqrt(Vx*Vx+Vy*Vy+Vz*Vz)\n",
        "\n",
        "Sin_G = (Rx*Vx+Ry*Vy+Rz*Vz) / (r * v) \n",
        "\n",
        "Cos_G = np.sqrt(r*r*v*v - (Rx*Vx+Ry*Vy+Rz*Vz)**2) / (r * v) \n",
        "                \n",
        "mu = 132712440018    #km^3 c-2              \n",
        "\n",
        "# orbital parameter \n",
        "p =r*r*v*v/mu\n",
        "\n",
        "# energy constant / константа энергии\n",
        "h= v*v - 2*mu/r\n",
        "\n",
        "\n",
        "\n",
        "# semimajor axis / большую полуось a (3)  eccentricity /  эксцентриситет орбиты e (4) \n",
        "\n",
        "e = np.sqrt(1+h*C*C/mu/mu)\n",
        "\n",
        "a = p/(1-e) \n",
        "\n",
        "#true anomaly / истинную аномалию \n",
        "\n",
        "#sin_ist_anom = k * Sin_G * Cos_G/e\n",
        "\n",
        "cos_ist_anom = (1 - p/r)/e\n",
        "\n",
        "#cos_ist_anom = (k * Cos_G * Cos_G - 1)/e\n",
        "\n",
        "sin_ist_anom = (Rx*Vx+Ry*Vy+Rz*Vz)/r*p/C/e\n",
        "\n",
        "y=[cos_ist_anom,sin_ist_anom]\n",
        "                \n",
        "x=[0,0]\n",
        "                \n",
        "ist_anom = np.arctan2(y,x)        \n",
        "               \n",
        "\n",
        "#argument of the periapsis аргумент широты u  (5)\n",
        "#https://en.wikipedia.org/wiki/Orbital_elements\n",
        "\n",
        "Cos_u= (Rx * Cos_Omega + Ry* Sin_Omega)/r\n",
        "\n",
        "Sin_u = Rz/(r*np.sin(i))\n",
        "\n",
        "y=[Cos_u,Sin_u]\n",
        "                \n",
        "x=[0,0]\n",
        "                \n",
        "u = np.arctan2(y,x)  \n",
        "\n",
        "#print('v',v)\n",
        "\n",
        "print('i',i)\n",
        "\n",
        "print('Omega_long',i)\n",
        "\n",
        "print('e',e)\n",
        "\n",
        "print('a',a)\n",
        "\n",
        "#print('sin_ist_anom',sin_ist_anom)\n",
        "\n",
        "#print('cos_ist_anom',cos_ist_anom)\n",
        "\n",
        "#print('summ',sin_ist_anom*sin_ist_anom+cos_ist_anom*cos_ist_anom)\n"
      ]
    },
    {
      "cell_type": "code",
      "execution_count": null,
      "metadata": {
        "id": "GA4sV9kiB4y-",
        "outputId": "739b4238-d3b8-43f3-c121-874a00ac8b9a",
        "colab": {
          "base_uri": "https://localhost:8080/"
        }
      },
      "outputs": [
        {
          "output_type": "stream",
          "name": "stdout",
          "text": [
            "i 0.016127633843630664\n",
            "Omega_long [ 0.         -1.57079633]\n",
            "e 0.09329679074007681\n",
            "a 179925886.39403418\n",
            "p 163139378.62240714\n",
            "omega [ 1.57079633 -1.57079633]\n",
            "tau [ 9172113.04933715 -9172113.04933715]\n"
          ]
        }
      ],
      "source": [
        "# eccentric anomaly / эксцентрическая аномалия\n",
        "\n",
        "tg_E_2 = np.sqrt((1-e)/(1+e))* np.tan((ist_anom)/2)\n",
        "\n",
        "E = 2*np.arctan(tg_E_2)\n",
        "\n",
        "# periapsis transition time / время прохождения перицентра (6)\n",
        "\n",
        "t= 0\n",
        "\n",
        "tau = t - np.sqrt(a*a*a/mu)*(E -  e*np.sin(E))\n",
        "\n",
        "# periapsis argument / аргумент перицентра omega из равенства \n",
        "\n",
        "omega = u - ist_anom\n",
        "\n",
        "print('i',i)\n",
        "\n",
        "print('Omega_long',Omega_long)\n",
        "\n",
        "print('e',e)\n",
        "\n",
        "print('a',a)\n",
        "\n",
        "print('p',p)\n",
        "\n",
        "print('omega',omega)\n",
        "\n",
        "print('tau', tau)\n"
      ]
    },
    {
      "cell_type": "code",
      "execution_count": null,
      "metadata": {
        "id": "AoCtnRgAB4y_"
      },
      "outputs": [],
      "source": []
    }
  ],
  "metadata": {
    "kernelspec": {
      "display_name": "Python 3",
      "language": "python",
      "name": "python3"
    },
    "language_info": {
      "codemirror_mode": {
        "name": "ipython",
        "version": 3
      },
      "file_extension": ".py",
      "mimetype": "text/x-python",
      "name": "python",
      "nbconvert_exporter": "python",
      "pygments_lexer": "ipython3",
      "version": "3.6.7"
    },
    "colab": {
      "provenance": [],
      "include_colab_link": true
    }
  },
  "nbformat": 4,
  "nbformat_minor": 0
}